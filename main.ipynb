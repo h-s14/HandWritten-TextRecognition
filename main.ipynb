{
  "cells": [
    {
      "cell_type": "code",
      "execution_count": 24,
      "metadata": {
        "id": "TGgpRWJvEA7j"
      },
      "outputs": [],
      "source": [
        "import numpy as np\n",
        "import pandas as pd\n",
        "import matplotlib.pyplot as plt\n",
        "import seaborn as sns\n",
        "import warnings\n",
        "from sklearn.neighbors import KNeighborsClassifier\n",
        "warnings.filterwarnings('ignore')\n",
        "#%matplotlib inline"
      ]
    },
    {
      "cell_type": "code",
      "execution_count": 25,
      "metadata": {
        "id": "3ZKBsFJgEA7n"
      },
      "outputs": [],
      "source": [
        "test_df = pd.read_csv(\"test.csv\")\n",
        "train_df = pd.read_csv(\"train.csv\")"
      ]
    },
    {
      "cell_type": "code",
      "execution_count": 26,
      "metadata": {
        "id": "_hwgqOqDEA7o"
      },
      "outputs": [],
      "source": [
        "y_train=train_df['label']\n",
        "x_train=train_df.drop('label',axis=1)\n",
        "\n",
        "y_test=test_df['label']\n",
        "x_test=test_df.drop('label',axis=1)"
      ]
    },
    {
      "cell_type": "code",
      "execution_count": 27,
      "metadata": {
        "id": "GtJQJT-_EA7p",
        "outputId": "85c3600b-2fd6-4cfe-b6e4-86c037067820"
      },
      "outputs": [
        {
          "name": "stdout",
          "output_type": "stream",
          "text": [
            "0\n"
          ]
        },
        {
          "data": {
            "image/png": "[encoded data removed]",
            "text/plain": [
              "<Figure size 700x700 with 1 Axes>"
            ]
          },
          "metadata": {},
          "output_type": "display_data"
        }
      ],
      "source": [
        "plt.figure(figsize=(7,7))\n",
        "some_digit=4\n",
        "some_digit_image = x_train.iloc[some_digit].to_numpy()\n",
        "plt.imshow(np.reshape(some_digit_image, (28,28)))\n",
        "print(y_train[some_digit])"
      ]
    },
    {
      "cell_type": "code",
      "execution_count": 28,
      "metadata": {
        "id": "0R9JkVqaEA7q",
        "outputId": "52d4e043-c2dc-40aa-f3e4-30b494d253a3"
      },
      "outputs": [
        {
          "data": {
            "text/plain": [
              "<Axes: xlabel='label', ylabel='count'>"
            ]
          },
          "execution_count": 28,
          "metadata": {},
          "output_type": "execute_result"
        },
        {
          "data": {
            "image/png": "[encoded data removed]",
            "text/plain": [
              "<Figure size 640x480 with 1 Axes>"
            ]
          },
          "metadata": {},
          "output_type": "display_data"
        }
      ],
      "source": [
        "sns.countplot( x='label', data=train_df) "
      ]
    },
    {
      "cell_type": "code",
      "execution_count": 29,
      "metadata": {
        "id": "MbvHLuU5EA7q",
        "outputId": "f21b987f-fe30-43fb-8cf4-eeebdb82b911"
      },
      "outputs": [
        {
          "data": {
            "text/plain": [
              "((42000, 784), (42000,), (10000, 784), (10000,))"
            ]
          },
          "execution_count": 29,
          "metadata": {},
          "output_type": "execute_result"
        }
      ],
      "source": [
        "x_train.shape,y_train.shape,x_test.shape,y_test.shape"
      ]
    },
    {
      "cell_type": "code",
      "execution_count": 30,
      "metadata": {
        "id": "MRaxEsFdEA7r",
        "outputId": "707e8a09-d614-4e89-efae-b42b726c46a1"
      },
      "outputs": [
        {
          "name": "stdout",
          "output_type": "stream",
          "text": [
            "0.9774\n",
            "              precision    recall  f1-score   support\n",
            "\n",
            "           0       0.98      0.99      0.99       980\n",
            "           1       0.97      1.00      0.98      1135\n",
            "           2       0.99      0.97      0.98      1032\n",
            "           3       0.97      0.98      0.98      1010\n",
            "           4       0.98      0.98      0.98       982\n",
            "           5       0.97      0.98      0.98       892\n",
            "           6       0.99      0.99      0.99       958\n",
            "           7       0.97      0.97      0.97      1028\n",
            "           8       1.00      0.95      0.97       974\n",
            "           9       0.97      0.96      0.97      1009\n",
            "\n",
            "    accuracy                           0.98     10000\n",
            "   macro avg       0.98      0.98      0.98     10000\n",
            "weighted avg       0.98      0.98      0.98     10000\n",
            "\n",
            "[[ 973    1    1    0    0    1    3    1    0    0]\n",
            " [   0 1134    1    0    0    0    0    0    0    0]\n",
            " [   6    6 1005    1    0    0    1   11    2    0]\n",
            " [   1    2    3  989    1    6    0    6    0    2]\n",
            " [   0    4    0    0  961    0    2    2    0   13]\n",
            " [   3    0    0    8    2  871    2    1    1    4]\n",
            " [   5    4    0    0    2    2  945    0    0    0]\n",
            " [   0   15    3    0    1    0    0 1000    0    9]\n",
            " [   5    2    3   13    5   11    2    4  923    6]\n",
            " [   2    6    2    6    8    3    1    8    0  973]]\n"
          ]
        }
      ],
      "source": [
        "#Neighbors = 3 \n",
        "classifier = KNeighborsClassifier(n_neighbors = 3)\n",
        "classifier.fit(x_train, y_train)\n",
        "\n",
        "x_test = np.ascontiguousarray(x_test)\n",
        "y_pred = classifier.predict(x_test)\n",
        "\n",
        "from sklearn.metrics import accuracy_score,classification_report,confusion_matrix\n",
        "print(accuracy_score(y_test, y_pred))\n",
        "print(classification_report(y_test, y_pred))\n",
        "print(confusion_matrix(y_test, y_pred))\n"
      ]
    },
    {
      "cell_type": "code",
      "execution_count": 31,
      "metadata": {
        "id": "nn94dFjbEA7r",
        "outputId": "2044b772-80d8-47cf-abc9-47344f3e999f"
      },
      "outputs": [
        {
          "name": "stdout",
          "output_type": "stream",
          "text": [
            "0.9731\n",
            "              precision    recall  f1-score   support\n",
            "\n",
            "           0       0.97      0.99      0.98       980\n",
            "           1       0.96      1.00      0.98      1135\n",
            "           2       0.98      0.97      0.97      1032\n",
            "           3       0.97      0.98      0.98      1010\n",
            "           4       0.97      0.97      0.97       982\n",
            "           5       0.97      0.98      0.97       892\n",
            "           6       0.99      0.99      0.99       958\n",
            "           7       0.96      0.97      0.97      1028\n",
            "           8       0.99      0.94      0.97       974\n",
            "           9       0.96      0.96      0.96      1009\n",
            "\n",
            "    accuracy                           0.97     10000\n",
            "   macro avg       0.97      0.97      0.97     10000\n",
            "weighted avg       0.97      0.97      0.97     10000\n",
            "\n",
            "[[ 973    1    1    0    0    1    3    1    0    0]\n",
            " [   0 1134    1    0    0    0    0    0    0    0]\n",
            " [   9    8  997    1    0    0    1   14    2    0]\n",
            " [   0    1    4  987    1    8    0    5    2    2]\n",
            " [   1    8    0    0  951    0    3    2    1   16]\n",
            " [   4    0    0    8    3  870    3    1    0    3]\n",
            " [   4    4    0    0    3    2  944    0    1    0]\n",
            " [   0   20    3    0    2    0    0  993    0   10]\n",
            " [   5    5    6   12    5   14    2    5  915    5]\n",
            " [   3    5    2    6   11    4    1    9    1  967]]\n"
          ]
        }
      ],
      "source": [
        "#Neighbors = 5\n",
        "classifier = KNeighborsClassifier(n_neighbors = 5)\n",
        "classifier.fit(x_train, y_train)\n",
        "\n",
        "y_pred = classifier.predict(x_test)\n",
        "\n",
        "from sklearn.metrics import accuracy_score,classification_report,confusion_matrix\n",
        "print(accuracy_score(y_test, y_pred))\n",
        "print(classification_report(y_test, y_pred))\n",
        "print(confusion_matrix(y_test, y_pred))\n"
      ]
    },
    {
      "cell_type": "code",
      "execution_count": 32,
      "metadata": {
        "id": "eP2T3mISEA7s",
        "outputId": "8c2a8a1b-cf9f-42d2-f43a-fa24819cb1b5"
      },
      "outputs": [
        {
          "name": "stdout",
          "output_type": "stream",
          "text": [
            "0.972\n",
            "              precision    recall  f1-score   support\n",
            "\n",
            "           0       0.97      0.99      0.98       980\n",
            "           1       0.95      1.00      0.97      1135\n",
            "           2       0.98      0.95      0.97      1032\n",
            "           3       0.98      0.98      0.98      1010\n",
            "           4       0.98      0.97      0.97       982\n",
            "           5       0.97      0.98      0.98       892\n",
            "           6       0.98      0.99      0.98       958\n",
            "           7       0.96      0.96      0.96      1028\n",
            "           8       0.99      0.95      0.97       974\n",
            "           9       0.96      0.96      0.96      1009\n",
            "\n",
            "    accuracy                           0.97     10000\n",
            "   macro avg       0.97      0.97      0.97     10000\n",
            "weighted avg       0.97      0.97      0.97     10000\n",
            "\n",
            "[[ 972    1    1    0    0    2    3    1    0    0]\n",
            " [   0 1132    2    0    0    0    1    0    0    0]\n",
            " [  12   12  984    1    1    0    2   16    4    0]\n",
            " [   0    2    3  987    1    7    0    6    2    2]\n",
            " [   0    8    0    0  948    0    5    2    1   18]\n",
            " [   3    0    0    7    2  872    3    1    0    4]\n",
            " [   4    4    0    0    3    3  944    0    0    0]\n",
            " [   0   23    3    0    2    0    0  990    0   10]\n",
            " [   5    4    6   11    5   10    1    4  923    5]\n",
            " [   3    6    3    5    7    2    1   13    1  968]]\n"
          ]
        }
      ],
      "source": [
        "#Neighbors = 7\n",
        "classifier = KNeighborsClassifier(n_neighbors = 7)\n",
        "classifier.fit(x_train, y_train)\n",
        "\n",
        "y_pred = classifier.predict(x_test)\n",
        "\n",
        "from sklearn.metrics import accuracy_score,classification_report,confusion_matrix\n",
        "print(accuracy_score(y_test, y_pred))\n",
        "print(classification_report(y_test, y_pred))\n",
        "print(confusion_matrix(y_test, y_pred))\n"
      ]
    },
    {
      "cell_type": "code",
      "execution_count": 33,
      "metadata": {
        "id": "ImPGPKlREA7t",
        "outputId": "45e8f437-cc15-4ab7-cd3d-e1014c731398"
      },
      "outputs": [
        {
          "name": "stdout",
          "output_type": "stream",
          "text": [
            "0.9699\n",
            "              precision    recall  f1-score   support\n",
            "\n",
            "           0       0.97      0.99      0.98       980\n",
            "           1       0.95      1.00      0.97      1135\n",
            "           2       0.98      0.95      0.97      1032\n",
            "           3       0.97      0.98      0.97      1010\n",
            "           4       0.98      0.96      0.97       982\n",
            "           5       0.97      0.98      0.97       892\n",
            "           6       0.98      0.99      0.98       958\n",
            "           7       0.96      0.96      0.96      1028\n",
            "           8       0.99      0.95      0.97       974\n",
            "           9       0.96      0.96      0.96      1009\n",
            "\n",
            "    accuracy                           0.97     10000\n",
            "   macro avg       0.97      0.97      0.97     10000\n",
            "weighted avg       0.97      0.97      0.97     10000\n",
            "\n",
            "[[ 972    1    1    0    0    2    3    1    0    0]\n",
            " [   0 1131    2    1    0    0    1    0    0    0]\n",
            " [  13   10  981    2    0    0    2   18    6    0]\n",
            " [   0    2    2  985    1    9    0    5    2    4]\n",
            " [   1   10    0    0  944    0    4    2    1   20]\n",
            " [   4    1    0    6    2  870    4    1    0    4]\n",
            " [   4    4    0    0    3    3  944    0    0    0]\n",
            " [   0   27    4    0    2    0    0  984    0   11]\n",
            " [   5    4    5   11    5    9    2    6  921    6]\n",
            " [   3    6    2    6   10    2    1   11    1  967]]\n"
          ]
        }
      ],
      "source": [
        "#Neighbors = 9\n",
        "classifier = KNeighborsClassifier(n_neighbors = 9)\n",
        "classifier.fit(x_train, y_train)\n",
        "\n",
        "y_pred = classifier.predict(x_test)\n",
        "\n",
        "from sklearn.metrics import accuracy_score,classification_report,confusion_matrix\n",
        "print(accuracy_score(y_test, y_pred))\n",
        "print(classification_report(y_test, y_pred))\n",
        "print(confusion_matrix(y_test, y_pred))\n"
      ]
    },
    {
      "cell_type": "code",
      "execution_count": 34,
      "metadata": {
        "id": "P9YAhpU2EA7t",
        "outputId": "affd8d5f-90c8-4b28-cc17-5c55fa683c90"
      },
      "outputs": [
        {
          "name": "stdout",
          "output_type": "stream",
          "text": [
            "0.9684\n",
            "              precision    recall  f1-score   support\n",
            "\n",
            "           0       0.97      0.99      0.98       980\n",
            "           1       0.94      1.00      0.97      1135\n",
            "           2       0.98      0.95      0.96      1032\n",
            "           3       0.97      0.97      0.97      1010\n",
            "           4       0.98      0.96      0.97       982\n",
            "           5       0.97      0.97      0.97       892\n",
            "           6       0.98      0.98      0.98       958\n",
            "           7       0.96      0.96      0.96      1028\n",
            "           8       0.99      0.93      0.96       974\n",
            "           9       0.96      0.96      0.96      1009\n",
            "\n",
            "    accuracy                           0.97     10000\n",
            "   macro avg       0.97      0.97      0.97     10000\n",
            "weighted avg       0.97      0.97      0.97     10000\n",
            "\n",
            "[[ 971    1    1    0    0    2    4    1    0    0]\n",
            " [   0 1131    2    1    0    0    1    0    0    0]\n",
            " [  13   11  979    2    0    0    2   19    6    0]\n",
            " [   0    3    2  983    1    9    0    6    3    3]\n",
            " [   0   11    0    0  946    0    5    1    1   18]\n",
            " [   4    1    0    8    1  869    3    1    0    5]\n",
            " [   4    5    0    0    3    3  943    0    0    0]\n",
            " [   0   27    5    0    2    0    0  985    0    9]\n",
            " [   7    4    6   12    6   12    3    7  910    7]\n",
            " [   4    6    3    4   11    1    1   11    1  967]]\n"
          ]
        }
      ],
      "source": [
        "#Neighbors = 11\n",
        "classifier = KNeighborsClassifier(n_neighbors = 11)\n",
        "classifier.fit(x_train, y_train)\n",
        "\n",
        "y_pred = classifier.predict(x_test)\n",
        "\n",
        "from sklearn.metrics import accuracy_score,classification_report,confusion_matrix\n",
        "print(accuracy_score(y_test, y_pred))\n",
        "print(classification_report(y_test, y_pred))\n",
        "print(confusion_matrix(y_test, y_pred))\n"
      ]
    }
  ],
  "metadata": {
    "colab": {
      "provenance": []
    },
    "kernelspec": {
      "display_name": "torch",
      "language": "python",
      "name": "python3"
    },
    "language_info": {
      "codemirror_mode": {
        "name": "ipython",
        "version": 3
      },
      "file_extension": ".py",
      "mimetype": "text/x-python",
      "name": "python",
      "nbconvert_exporter": "python",
      "pygments_lexer": "ipython3",
      "version": "3.12.2"
    },
    "orig_nbformat": 4,
    "vscode": {
      "interpreter": {
        "hash": "d78f446194d08d1daf881f1e37bb1f8b864e37982f1810b6dc8d8f78fbf13383"
      }
    }
  },
  "nbformat": 4,
  "nbformat_minor": 0
}
